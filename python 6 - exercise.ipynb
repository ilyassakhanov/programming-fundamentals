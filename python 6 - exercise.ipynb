{
 "cells": [
  {
   "cell_type": "markdown",
   "metadata": {},
   "source": [
    "# W9 - Python regular expressions\n",
    "**To solve following problems, use regular expressions**"
   ]
  },
  {
   "cell_type": "markdown",
   "metadata": {},
   "source": [
    "# 1. Write function that matches a string that has an 'a' followed by anything, ending in 'b'\n",
    "Example\n",
    "```python\n",
    ">>> print(text_match(\"aabbbbdb\"))\n",
    "True\n",
    ">>> print(text_match(\"aabAbbbc\"))\n",
    "False\n",
    "```"
   ]
  },
  {
   "cell_type": "code",
   "execution_count": 27,
   "metadata": {},
   "outputs": [
    {
     "name": "stdout",
     "output_type": "stream",
     "text": [
      "<re.Match object; span=(0, 8), match='aabAbbbb'>\n"
     ]
    }
   ],
   "source": [
    "def text_match(string):\n",
    "    print(re.match(r'a\\w+b$', string))\n",
    "text_match(\"aabAbbbb\")"
   ]
  },
  {
   "cell_type": "markdown",
   "metadata": {},
   "source": [
    "# 2. Write function that matches string if it starts with word\n",
    "Example\n",
    "```python\n",
    ">>> print(text_match(\"Hello world!\"))\n",
    "True\n",
    ">>> print(text_match(\" Hello world!\"))\n",
    "False\n",
    "```"
   ]
  },
  {
   "cell_type": "code",
   "execution_count": 19,
   "metadata": {},
   "outputs": [
    {
     "name": "stdout",
     "output_type": "stream",
     "text": [
      "None\n"
     ]
    }
   ],
   "source": [
    "def text_match2(string):\n",
    "    import re\n",
    "    print(re.match(r'[A-Za-z]', string))\n",
    "text_match2(\" Hello\")\n"
   ]
  },
  {
   "cell_type": "markdown",
   "metadata": {},
   "source": [
    "# 3. Write function to convert a date of yyyy-mm-dd format to dd-mm-yyyy format\n",
    "Example\n",
    "```python\n",
    ">>> print(convert_date(\"2018-11-01\"))\n",
    "```\n",
    "```\n",
    "01-11-2018\n",
    "```"
   ]
  },
  {
   "cell_type": "code",
   "execution_count": 24,
   "metadata": {},
   "outputs": [
    {
     "name": "stdout",
     "output_type": "stream",
     "text": [
      "01-11-2018\n"
     ]
    }
   ],
   "source": [
    "def convert_date(date):\n",
    "    import re\n",
    "    date=re.search(r'(\\d+)-(\\d+)-(\\d+)',date)\n",
    "    print (date.group(3)+'-'+date.group(2)+'-'+date.group(1))\n",
    "convert_date('2018-11-01')               \n"
   ]
  },
  {
   "cell_type": "markdown",
   "metadata": {},
   "source": [
    "# 4. Write function to search for words containing 3 letters in the given string\n",
    "Resulting words are sorted in alphabetical order\n",
    "Example\n",
    "```python\n",
    ">>> print(search words('The quick brown fox jumps over the lazy dog.'))\n",
    "dog fox the\n",
    "```"
   ]
  },
  {
   "cell_type": "code",
   "execution_count": 10,
   "metadata": {},
   "outputs": [
    {
     "name": "stdout",
     "output_type": "stream",
     "text": [
      "The\n",
      "fox\n",
      "the\n",
      "dog\n"
     ]
    }
   ],
   "source": [
    "def search_words(string):\n",
    "    import re\n",
    "    result2=[]\n",
    "    result=re.split(r'\\W+',string)\n",
    "    for word in result:\n",
    "        if len(word)==3:\n",
    "            print(word)\n",
    "search_words('The quick brown fox jumps over the lazy dog.')"
   ]
  },
  {
   "cell_type": "markdown",
   "metadata": {},
   "source": [
    "# 5. Write function to convert camel case string to snake case string\n",
    "Example\n",
    "```python\n",
    ">>> print(convert_style(\"myVariable\"))\n",
    "my_variable\n",
    "```"
   ]
  },
  {
   "cell_type": "code",
   "execution_count": 17,
   "metadata": {},
   "outputs": [
    {
     "name": "stdout",
     "output_type": "stream",
     "text": [
      "my_Variable\n"
     ]
    }
   ],
   "source": [
    "def convert_style(string):\n",
    "    import re\n",
    "    snake=re.search(r'(\\w+)([A-Z]\\w+)', string)\n",
    "    print(snake.group(1)+'_'+snake.group(2))\n",
    "    return\n",
    "convert_style('myVariable')           "
   ]
  },
  {
   "cell_type": "markdown",
   "metadata": {},
   "source": [
    "# 6. Write function to find all adverbs in the given string\n",
    "Example\n",
    "```python\n",
    ">>> print(find_adverbs('The early bird catches the worm.'))\n",
    "early\n",
    ">>> print(find_adverbs('Better late than never.'))\n",
    "No adverbs were found\n",
    "```"
   ]
  },
  {
   "cell_type": "code",
   "execution_count": 56,
   "metadata": {},
   "outputs": [
    {
     "name": "stdout",
     "output_type": "stream",
     "text": [
      "[]\n"
     ]
    }
   ],
   "source": [
    "def find_adverbs(string):\n",
    "    import re\n",
    "    print(re.findall(r'\\w+y',string))\n",
    "find_adverbs('The early badly bird catches the worm.')"
   ]
  },
  {
   "cell_type": "markdown",
   "metadata": {},
   "source": [
    "# 7. Write function to remove multiple spaces in the given string"
   ]
  },
  {
   "cell_type": "code",
   "execution_count": null,
   "metadata": {},
   "outputs": [],
   "source": []
  },
  {
   "cell_type": "markdown",
   "metadata": {},
   "source": [
    "# 8. Write function that matches word that does not starts and ends with s in the given string\n",
    "Example\n",
    "```python\n",
    ">>> print(word_match_not_s(\"A chain is only as strong as its weakest link.\"))\n",
    "a\n",
    "chain\n",
    "only\n",
    "weakest\n",
    "link\n",
    "```"
   ]
  },
  {
   "cell_type": "code",
   "execution_count": 37,
   "metadata": {},
   "outputs": [
    {
     "name": "stdout",
     "output_type": "stream",
     "text": [
      "['chain', 'only', 'trong', 'weakest', 'link']\n"
     ]
    }
   ],
   "source": [
    "def word_match_not_s(string):\n",
    "    import re\n",
    "    print(re.findall(r'[A-RT-Za-rt-z]\\w+[A-RT-Za-rt-z]',string))\n",
    "word_match_not_s(\"A chain is only as strong as its weakest link.\")\n",
    "    "
   ]
  },
  {
   "cell_type": "markdown",
   "metadata": {},
   "source": [
    "# 9. Write function to remove leading zeroes from month and day\n",
    "Example\n",
    "```python\n",
    ">>> print(remove_zeroes(\"1970-01-01\"))\n",
    "1970-1-1\n",
    "```"
   ]
  },
  {
   "cell_type": "code",
   "execution_count": 55,
   "metadata": {},
   "outputs": [
    {
     "data": {
      "text/plain": [
       "'1970-1-1'"
      ]
     },
     "execution_count": 55,
     "metadata": {},
     "output_type": "execute_result"
    }
   ],
   "source": [
    "def remove_zeroes(date):\n",
    "    import re\n",
    "    date2=re.search(r'(\\d+)-\\d(\\d)-\\d(\\d)',date)\n",
    "    result=(date2.group(1)+'-'+date2.group(2)+'-'+date2.group(3))\n",
    "    return result\n",
    "remove_zeroes(\"1970-01-01\")"
   ]
  },
  {
   "cell_type": "markdown",
   "metadata": {},
   "source": [
    "# 10. Write function that will find sequence of 4 and more same symbols in given string\n",
    "Example\n",
    "```python\n",
    ">>> print(find_repetitions('atagttcgacctgggtatcccttttgaaaaagtatctactagagggtatcttcaa'))\n",
    "Symbol a matched at least 4 times\n",
    "Symbol t matched at least 4 times\n",
    "```"
   ]
  },
  {
   "cell_type": "code",
   "execution_count": null,
   "metadata": {},
   "outputs": [],
   "source": []
  },
  {
   "cell_type": "markdown",
   "metadata": {},
   "source": [
    "# BONUS: Write function to extract email addresses from the text using regular expressions\n",
    "```python\n",
    "text = '''Please submit your article online at https://biocoreopen.org/ijcf/submit_manuscript.php or you can email your attachments to ijcf@biocoreopen.info (or) editor.forensicjournal@gmail.com'''\n",
    ">>> extract_emails(text)\n",
    "ijcf@biocoreopen.info\n",
    "editor.forensicjournal@gmail.com\n",
    "```"
   ]
  },
  {
   "cell_type": "code",
   "execution_count": null,
   "metadata": {},
   "outputs": [],
   "source": []
  }
 ],
 "metadata": {
  "kernelspec": {
   "display_name": "Python 3",
   "language": "python",
   "name": "python3"
  },
  "language_info": {
   "codemirror_mode": {
    "name": "ipython",
    "version": 3
   },
   "file_extension": ".py",
   "mimetype": "text/x-python",
   "name": "python",
   "nbconvert_exporter": "python",
   "pygments_lexer": "ipython3",
   "version": "3.7.0"
  }
 },
 "nbformat": 4,
 "nbformat_minor": 2
}
