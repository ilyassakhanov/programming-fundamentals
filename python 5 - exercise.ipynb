{
 "cells": [
  {
   "cell_type": "markdown",
   "metadata": {},
   "source": [
    "# W8 - Python files and modules"
   ]
  },
  {
   "cell_type": "markdown",
   "metadata": {},
   "source": [
    "# 1. Write function to read first n lines of a file"
   ]
  },
  {
   "cell_type": "code",
   "execution_count": 1,
   "metadata": {},
   "outputs": [
    {
     "name": "stdout",
     "output_type": "stream",
     "text": [
      "The Zen of Python\n",
      "\n",
      "Beautiful is better than ugly.\n",
      "\n",
      "Explicit is better than implicit.\n",
      "\n"
     ]
    }
   ],
   "source": [
    "def read_first_lines(file,num):\n",
    "    with open(file,'r+',encoding='utf-8') as f:\n",
    "        lines=f.readlines()\n",
    "        i=0\n",
    "        while i<num:\n",
    "            print (lines[i])\n",
    "            i+=1\n",
    "read_first_lines('zen.txt',3)\n",
    "        "
   ]
  },
  {
   "cell_type": "markdown",
   "metadata": {},
   "source": [
    "# 2. Create script that will count vowels in string\n",
    "Example\n",
    "```shell\n",
    "$ python find_vowels.py 'hello world'\n",
    "hello world contains 3 vowels\n",
    "```"
   ]
  },
  {
   "cell_type": "code",
   "execution_count": 2,
   "metadata": {},
   "outputs": [
    {
     "data": {
      "text/plain": [
       "3"
      ]
     },
     "execution_count": 2,
     "metadata": {},
     "output_type": "execute_result"
    }
   ],
   "source": [
    "from find_vowels import find_vowels\n",
    "find_vowels('hello world')\n",
    "        \n",
    "    "
   ]
  },
  {
   "cell_type": "markdown",
   "metadata": {},
   "source": [
    "# 3. Write function to count number of lines in a file\n",
    "Example\n",
    "```python\n",
    ">>>count_lines('myfile.txt')\n",
    "File has 12 lines\n",
    "```"
   ]
  },
  {
   "cell_type": "code",
   "execution_count": 3,
   "metadata": {},
   "outputs": [
    {
     "name": "stdout",
     "output_type": "stream",
     "text": [
      "20\n"
     ]
    }
   ],
   "source": [
    " def count_lines(file):\n",
    "        num_lines = sum(1 for line in open(file))\n",
    "        print(num_lines)\n",
    "count_lines('zen.txt')"
   ]
  },
  {
   "cell_type": "markdown",
   "metadata": {},
   "source": [
    "# 4. Write function to count occurrence of given word in file\n",
    "Example\n",
    "```python\n",
    ">>>count_occurence('myfile.txt', 'apple')\n",
    "Searched term apple appeared 10 times\n",
    "```"
   ]
  },
  {
   "cell_type": "code",
   "execution_count": 2,
   "metadata": {},
   "outputs": [
    {
     "name": "stdout",
     "output_type": "stream",
     "text": [
      "8\n"
     ]
    }
   ],
   "source": [
    "def count_occurance(file,key_word):\n",
    "    with open(file,'r+',encoding='utf-8') as f:\n",
    "        file=f.read()   \n",
    "        occurance=0\n",
    "        words=file.split(' ')\n",
    "        for word in words:\n",
    "            if key_word==word:\n",
    "                occurance+=1\n",
    "    print(occurance)\n",
    "count_occurance('zen.txt','than')\n",
    "    \n",
    "\n",
    "   "
   ]
  },
  {
   "cell_type": "markdown",
   "metadata": {},
   "source": [
    "# 5. Write function to copy the contents of a file to another file\n",
    "\n",
    "```python\n",
    ">>>copy file('myfile.txt', 'myfile2.txt')\n",
    "```"
   ]
  },
  {
   "cell_type": "code",
   "execution_count": 5,
   "metadata": {},
   "outputs": [],
   "source": [
    "def copy_file(file):\n",
    "    with open (file,'r+',encoding='utf-8') as f:\n",
    "        file=f.read()\n",
    "        with open('myfile2.txt','w',encoding='utf-8') as x:\n",
    "            myfile2=x.write(zen)\n",
    "            x.close # not nessesary with 'with open'"
   ]
  },
  {
   "cell_type": "markdown",
   "metadata": {},
   "source": [
    "# 6. Write function to write nested list to file, each list on separate line\n",
    "Example data `my_list = [['a', 'b', 'c'], [1,2,3]]`"
   ]
  },
  {
   "cell_type": "code",
   "execution_count": 6,
   "metadata": {},
   "outputs": [],
   "source": [
    "my_list = [['a', 'b', 'c'], [1,2,3]]\n",
    "def my_list_x(lst):\n",
    "    with open('ex6.txt','w',encoding='utf-8') as f:\n",
    "        for i in range(0,3):\n",
    "            f.write(lst[0][i]+' ')\n",
    "        f.write('\\n')\n",
    "        for k in range(0,3):\n",
    "            f.write(str(lst[1][k])+' ')\n",
    "        f.close()\n",
    "    return\n",
    "my_list_x(my_list)\n",
    "\n",
    "\n",
    "\n",
    "        "
   ]
  },
  {
   "cell_type": "markdown",
   "metadata": {},
   "source": [
    "# 7. Write function to read  random line from a file"
   ]
  },
  {
   "cell_type": "code",
   "execution_count": 14,
   "metadata": {},
   "outputs": [
    {
     "name": "stdout",
     "output_type": "stream",
     "text": [
      "Readability counts.\n",
      "\n"
     ]
    }
   ],
   "source": [
    "def rand_line(file):\n",
    "    import random\n",
    "    with open(file,'r+',encoding='utf-8') as f:\n",
    "        lines=f.readlines()\n",
    "        print (lines[random.randint(1,len(file))])\n",
    "    return\n",
    "rand_line('zen.txt')"
   ]
  },
  {
   "cell_type": "markdown",
   "metadata": {},
   "source": [
    "# 8. Write function to read nth, n-1 and n+1 lines of file\n",
    "Example\n",
    "```python\n",
    ">>>read_specific_lines('myfile.txt', 10)\n",
    "```\n",
    "```\n",
    "Errors should never pass silently.\n",
    "Unless explicitly silenced.\n",
    "In the face of ambiguity, refuse the temptation to guess.\n",
    "```"
   ]
  },
  {
   "cell_type": "code",
   "execution_count": 8,
   "metadata": {},
   "outputs": [
    {
     "name": "stdout",
     "output_type": "stream",
     "text": [
      "Complex is better than complicated.\n",
      "\n",
      "Flat is better than nested.\n",
      "\n",
      "Sparse is better than dense.\n",
      "\n"
     ]
    }
   ],
   "source": [
    "def read_specific_lines(file, line):\n",
    "    with open(file,'r+',encoding='utf-8') as f:\n",
    "        lines=f.readlines()\n",
    "        print(lines[line-1])\n",
    "        print(lines[line])\n",
    "        print(lines[line+1])\n",
    "    return\n",
    "read_specific_lines('zen.txt',5)\n"
   ]
  },
  {
   "cell_type": "markdown",
   "metadata": {},
   "source": [
    "# 9. Write function to read file and find the longest word\n",
    "Example\n",
    "```python\n",
    ">>>find_longest_word('myfile.txt')\n",
    "supercalifragilisticexpialidocious\n",
    "```"
   ]
  },
  {
   "cell_type": "code",
   "execution_count": 9,
   "metadata": {},
   "outputs": [
    {
     "name": "stdout",
     "output_type": "stream",
     "text": [
      "implementation\n"
     ]
    }
   ],
   "source": [
    "def longest_word(file):\n",
    "    with open(file,'r+',encoding='utf-8') as f:\n",
    "        file=f.read()\n",
    "        lenght=0\n",
    "        words=file.split()\n",
    "        for word in words:\n",
    "            if len(word)>lenght:\n",
    "                lenght=len(word)\n",
    "                result=word\n",
    "        print(result)\n",
    "    return\n",
    "longest_word('zen.txt')\n"
   ]
  },
  {
   "cell_type": "markdown",
   "metadata": {},
   "source": [
    "# 10. Write function to concatenate 2 files together and store them as new file\n",
    "```\n",
    ">>>concatenate_files('myfile1.txt', 'myfile2.txt', 'myfile_new.txt')\n",
    "```"
   ]
  },
  {
   "cell_type": "code",
   "execution_count": 10,
   "metadata": {},
   "outputs": [],
   "source": [
    "def concatenate_files(file1,file2):\n",
    "    with open(file1,'r+') as f:\n",
    "        file1=f.read()\n",
    "        with open(file2,'r+',encoding='utf-8') as d:\n",
    "            file2=d.read()\n",
    "            with open('new_file.txt','w',encoding='utf-8')as x:\n",
    "                x.write(file1+'\\n')\n",
    "                x.write(file2+'\\n')\n",
    "                x.close()\n",
    "    return\n",
    "concatenate_files('zen.txt','myfile.txt')\n",
    "    \n",
    "    "
   ]
  },
  {
   "cell_type": "markdown",
   "metadata": {},
   "source": [
    "# BONUS: Write function to read file and print only words containing letters 'p', 'y', 't', 'o' or 'n' and make these letters uppercase\n",
    "Example\n",
    "```python\n",
    ">>>print_selected_words('myfile.txt')\n",
    "lOve\n",
    "simPliciTY\n",
    "PaTieNce\n",
    "```"
   ]
  },
  {
   "cell_type": "code",
   "execution_count": null,
   "metadata": {},
   "outputs": [],
   "source": []
  }
 ],
 "metadata": {
  "kernelspec": {
   "display_name": "Python 3",
   "language": "python",
   "name": "python3"
  },
  "language_info": {
   "codemirror_mode": {
    "name": "ipython",
    "version": 3
   },
   "file_extension": ".py",
   "mimetype": "text/x-python",
   "name": "python",
   "nbconvert_exporter": "python",
   "pygments_lexer": "ipython3",
   "version": "3.7.0"
  }
 },
 "nbformat": 4,
 "nbformat_minor": 2
}
